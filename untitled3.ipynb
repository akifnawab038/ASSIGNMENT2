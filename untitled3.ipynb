{
  "nbformat": 4,
  "nbformat_minor": 0,
  "metadata": {
    "colab": {
      "provenance": [],
      "authorship_tag": "ABX9TyNsbrdHVjUY/+wCk9unGpRE",
      "include_colab_link": true
    },
    "kernelspec": {
      "name": "python3",
      "display_name": "Python 3"
    },
    "language_info": {
      "name": "python"
    }
  },
  "cells": [
    {
      "cell_type": "markdown",
      "metadata": {
        "id": "view-in-github",
        "colab_type": "text"
      },
      "source": [
        "<a href=\"https://colab.research.google.com/github/akifnawab038/ASSIGNMENT2/blob/main/untitled3.ipynb\" target=\"_parent\"><img src=\"https://colab.research.google.com/assets/colab-badge.svg\" alt=\"Open In Colab\"/></a>"
      ]
    },
    {
      "cell_type": "markdown",
      "source": [
        "# Assignment 2:\n",
        "## Data Structures:"
      ],
      "metadata": {
        "id": "RHlo47GUB2Ya"
      }
    },
    {
      "cell_type": "code",
      "source": [],
      "metadata": {
        "id": "hBgfCE-JH3b4"
      },
      "execution_count": null,
      "outputs": []
    },
    {
      "cell_type": "markdown",
      "source": [
        "### 1. String Slicing in **Python**"
      ],
      "metadata": {
        "id": "IYC2VvPQCIHX"
      }
    },
    {
      "cell_type": "markdown",
      "source": [
        "- String slicing in Python allows extracting a portion of a string by specifying a range of indices. Strings are indexed starting from 0, and slicing uses the syntax string[start:stop:step].\n",
        "\n",
        "- start: The index where the slice begins (inclusive).\n",
        "\n",
        "- stop: The index where the slice ends (exclusive).\n",
        "\n",
        "- step: Controls how the index progresses (optional)"
      ],
      "metadata": {
        "id": "Hnj5fNW_CUKH"
      }
    },
    {
      "cell_type": "code",
      "source": [
        "#examples:\n",
        "text = \"md akif nawab\"\n",
        "print(text[0:6])"
      ],
      "metadata": {
        "colab": {
          "base_uri": "https://localhost:8080/"
        },
        "id": "FEEvEy-5Chfk",
        "outputId": "857dd429-bdf5-4051-aabf-c3c4fa112e4f"
      },
      "execution_count": null,
      "outputs": [
        {
          "output_type": "stream",
          "name": "stdout",
          "text": [
            "md aki\n"
          ]
        }
      ]
    },
    {
      "cell_type": "code",
      "source": [
        "print(text[7:18])\n",
        "\n",
        "print(text[::-1])"
      ],
      "metadata": {
        "colab": {
          "base_uri": "https://localhost:8080/"
        },
        "id": "_mfkUTWACk9K",
        "outputId": "3b6f8af2-ed8a-41c1-e269-15c960107ca5"
      },
      "execution_count": null,
      "outputs": [
        {
          "output_type": "stream",
          "name": "stdout",
          "text": [
            " nawab\n",
            "bawan fika dm\n"
          ]
        }
      ]
    },
    {
      "cell_type": "code",
      "source": [],
      "metadata": {
        "id": "RmaHdWFKCyJg"
      },
      "execution_count": null,
      "outputs": []
    },
    {
      "cell_type": "markdown",
      "source": [
        "### 2. Key Features of Lists in Python"
      ],
      "metadata": {
        "id": "LJZ9yR23C14w"
      }
    },
    {
      "cell_type": "markdown",
      "source": [
        "- Lists are one of the most versatile data structures in Python. Some key features include:\n",
        "\n",
        "**1. Mutable:** You can change, add, or remove elements after the list has been created.\n",
        "\n",
        "**2. Ordered:** The elements in a list are stored in a specific sequence.\n",
        "\n",
        "**3. Dynamic Size:**  Lists can grow or shrink as elements are added or removed.\n",
        "\n",
        "**4.Heterogeneous:** Lists can hold elements of different data types.\n",
        "\n",
        "**Accessing, Modifying, and Deleting Elements in a List**\n",
        "\n",
        "**1. Access:** Lists can be accessed using indices, starting from 0. - Modifying: You can update the value of a list element by assigning a new value to its index.\n",
        "\n",
        "**2. Deleting:** Use del, remove(), or pop() to remove elements."
      ],
      "metadata": {
        "id": "2_2wYLhmC-aY"
      }
    },
    {
      "cell_type": "code",
      "source": [
        "#examples:\n",
        "my_list = [1, 20, 100, \"akif\", True, 2+4j]\n",
        "\n",
        "# Access\n",
        "print(my_list[1])"
      ],
      "metadata": {
        "colab": {
          "base_uri": "https://localhost:8080/"
        },
        "id": "Y0x2L5a7Dl_m",
        "outputId": "347f7902-76f6-4fdd-bf86-845d5afb152f"
      },
      "execution_count": null,
      "outputs": [
        {
          "output_type": "stream",
          "name": "stdout",
          "text": [
            "20\n"
          ]
        }
      ]
    },
    {
      "cell_type": "code",
      "source": [
        "# Modify\n",
        "my_list[1] = 200\n",
        "print(my_list)"
      ],
      "metadata": {
        "colab": {
          "base_uri": "https://localhost:8080/"
        },
        "id": "j6rUqEYlDqRZ",
        "outputId": "637a62c7-1f4b-45d3-d4bd-c5eab17f4913"
      },
      "execution_count": null,
      "outputs": [
        {
          "output_type": "stream",
          "name": "stdout",
          "text": [
            "[1, 200, 100, 'akif', True, (2+4j)]\n"
          ]
        }
      ]
    },
    {
      "cell_type": "code",
      "source": [
        "# Delete\n",
        "del my_list[2]\n",
        "print(my_list)"
      ],
      "metadata": {
        "colab": {
          "base_uri": "https://localhost:8080/"
        },
        "id": "01vJ59PYDt3Z",
        "outputId": "3d39b30c-0744-459c-e703-6da116b2d81d"
      },
      "execution_count": null,
      "outputs": [
        {
          "output_type": "stream",
          "name": "stdout",
          "text": [
            "[1, 200, 'akif', True, (2+4j)]\n"
          ]
        }
      ]
    },
    {
      "cell_type": "code",
      "source": [],
      "metadata": {
        "id": "LXjBdELpDvlU"
      },
      "execution_count": null,
      "outputs": []
    },
    {
      "cell_type": "markdown",
      "source": [
        "\n",
        "### 3.Working with Lists in Python: Accessing, Modifying, and Deleting Elements¶"
      ],
      "metadata": {
        "id": "S-wvwf8KDwmP"
      }
    },
    {
      "cell_type": "markdown",
      "source": [
        "- Lists in Python are a versatile and commonly used data structure. They allow you to store and manipulate a collection of items. This section will cover how to access, modify, and delete elements in a list with examples.\n",
        "\n",
        "**1. Accessing Elements:**\n",
        "\n",
        "-To access elements in a list, you use indexing. Python lists are zero-indexed, meaning the index starts at 0.\n",
        "\n",
        "**2. Modifying Elements:**\n",
        "\n",
        "You can modify elements in a list by assigning a new value to a specific index.\n",
        "\n",
        "**3. Deleting elements:**\n",
        "\n",
        "You can delete elements from a list using several methods: del, remove(), and pop().\n",
        "Using del: The del statement removes an element at a specified index."
      ],
      "metadata": {
        "id": "zmC67KTLENyQ"
      }
    },
    {
      "cell_type": "code",
      "source": [
        "# Defining a list\n",
        "my_list = [10, 20, 30, 40, 50]\n",
        "\n",
        "\n",
        "print(my_list[0])\n",
        "print(my_list[2])\n",
        "print(my_list[-1])"
      ],
      "metadata": {
        "colab": {
          "base_uri": "https://localhost:8080/"
        },
        "id": "JMt4bsFCEl4z",
        "outputId": "0935fab6-62fa-491a-e057-3b7050f89c26"
      },
      "execution_count": null,
      "outputs": [
        {
          "output_type": "stream",
          "name": "stdout",
          "text": [
            "10\n",
            "30\n",
            "50\n"
          ]
        }
      ]
    },
    {
      "cell_type": "code",
      "source": [
        "my_list = [10, 20, 30, 40, 50]\n",
        "\n",
        "# Modifying elements by index\n",
        "my_list[1] = 25\n",
        "print(my_list)"
      ],
      "metadata": {
        "colab": {
          "base_uri": "https://localhost:8080/"
        },
        "id": "v-HHy5akEob6",
        "outputId": "b82a355c-72c8-4a88-ccbc-5e0ea4ce94a7"
      },
      "execution_count": null,
      "outputs": [
        {
          "output_type": "stream",
          "name": "stdout",
          "text": [
            "[10, 25, 30, 40, 50]\n"
          ]
        }
      ]
    },
    {
      "cell_type": "code",
      "source": [
        "# Defining a list\n",
        "my_list = [10, 20, 30, 40, 50]\n",
        "del my_list[3]\n",
        "print(my_list)"
      ],
      "metadata": {
        "colab": {
          "base_uri": "https://localhost:8080/"
        },
        "id": "bLXvB6L9EqMC",
        "outputId": "20aa9b9d-ade3-4b22-d510-ea2c0c1dd65a"
      },
      "execution_count": null,
      "outputs": [
        {
          "output_type": "stream",
          "name": "stdout",
          "text": [
            "[10, 20, 30, 50]\n"
          ]
        }
      ]
    },
    {
      "cell_type": "code",
      "source": [
        "my_list.remove(30)\n",
        "print(my_list)"
      ],
      "metadata": {
        "colab": {
          "base_uri": "https://localhost:8080/"
        },
        "id": "_yVRUuPcEtc0",
        "outputId": "0ced7eaf-eb87-4624-9155-91a88c9c7de6"
      },
      "execution_count": null,
      "outputs": [
        {
          "output_type": "stream",
          "name": "stdout",
          "text": [
            "[10, 20, 50]\n"
          ]
        }
      ]
    },
    {
      "cell_type": "code",
      "source": [],
      "metadata": {
        "id": "F-uKCaO6EwE_"
      },
      "execution_count": null,
      "outputs": []
    },
    {
      "cell_type": "markdown",
      "source": [
        "\n",
        "### 4. Comparing Tuples and Lists"
      ],
      "metadata": {
        "id": "XFYli4i2ExiH"
      }
    },
    {
      "cell_type": "markdown",
      "source": [
        "**1. Tuples:**\n",
        "\n",
        "- Immutable: Once created, their - elements cannot be modified.\n",
        "- Ordered: Elements are stored in a specific order.\n",
        "- Fixed Size: You cannot add or remove elements from a tuple after it is created.\n",
        "- Performance: Tuples are faster than lists due to immutability.\n",
        "\n",
        "**2. Lists:**\n",
        "\n",
        "- Mutable: Elements can be changed, added, or removed.\n",
        "- Ordered: The order of elements is maintained.\n",
        "- Dynamic Size: Lists can grow and shrink as needed"
      ],
      "metadata": {
        "id": "jUrGzLkoE162"
      }
    },
    {
      "cell_type": "code",
      "source": [
        "my_tuple = (1, 2, 3)\n",
        "my_list = [1, 2, 3]\n",
        "\n",
        "# Attempt to modify\n",
        "\n",
        "my_list[0] = 10"
      ],
      "metadata": {
        "id": "4jQRBLYMFLZD"
      },
      "execution_count": null,
      "outputs": []
    },
    {
      "cell_type": "code",
      "source": [
        "my_list"
      ],
      "metadata": {
        "colab": {
          "base_uri": "https://localhost:8080/"
        },
        "id": "Vwyu9SUjFOiO",
        "outputId": "0b35f237-d854-4cc7-bbd9-bc7d576f9328"
      },
      "execution_count": null,
      "outputs": [
        {
          "output_type": "execute_result",
          "data": {
            "text/plain": [
              "[10, 2, 3]"
            ]
          },
          "metadata": {},
          "execution_count": 13
        }
      ]
    },
    {
      "cell_type": "code",
      "source": [
        "my_tuple[0] = 100"
      ],
      "metadata": {
        "colab": {
          "base_uri": "https://localhost:8080/",
          "height": 141
        },
        "id": "o3T-cxsAFQ2l",
        "outputId": "de2598e0-855e-49e9-fc5f-9583c24de9a0"
      },
      "execution_count": null,
      "outputs": [
        {
          "output_type": "error",
          "ename": "TypeError",
          "evalue": "'tuple' object does not support item assignment",
          "traceback": [
            "\u001b[0;31m---------------------------------------------------------------------------\u001b[0m",
            "\u001b[0;31mTypeError\u001b[0m                                 Traceback (most recent call last)",
            "\u001b[0;32m<ipython-input-14-9914e480dcf6>\u001b[0m in \u001b[0;36m<cell line: 1>\u001b[0;34m()\u001b[0m\n\u001b[0;32m----> 1\u001b[0;31m \u001b[0mmy_tuple\u001b[0m\u001b[0;34m[\u001b[0m\u001b[0;36m0\u001b[0m\u001b[0;34m]\u001b[0m \u001b[0;34m=\u001b[0m \u001b[0;36m100\u001b[0m\u001b[0;34m\u001b[0m\u001b[0;34m\u001b[0m\u001b[0m\n\u001b[0m",
            "\u001b[0;31mTypeError\u001b[0m: 'tuple' object does not support item assignment"
          ]
        }
      ]
    },
    {
      "cell_type": "code",
      "source": [],
      "metadata": {
        "id": "rkr3tTLwFSrz"
      },
      "execution_count": null,
      "outputs": []
    },
    {
      "cell_type": "markdown",
      "source": [
        "\n",
        "### 5. Key Features of Sets in Python"
      ],
      "metadata": {
        "id": "q6Q00TeGFUT-"
      }
    },
    {
      "cell_type": "markdown",
      "source": [
        "**Sets are unordered collections of unique elements.**\n",
        "\n",
        "- Unordered: Elements do not have a fixed position.\n",
        "- Unique Elements: Duplicate values are automatically discarded.\n",
        "- Mutable: Elements can be added or removed.\n",
        "\n",
        "**Use Cases for Sets:**\n",
        "\n",
        "- Sets: Useful when you need to ensure that all elements are unique, such as eliminating duplicates from a list."
      ],
      "metadata": {
        "id": "XqQuCJ2aFmjm"
      }
    },
    {
      "cell_type": "code",
      "source": [
        "my_set = {1, 2, 3, 4, 4}\n",
        "print(my_set)\n",
        "\n",
        "# Adding elements\n",
        "my_set.add(5)\n",
        "print(my_set)"
      ],
      "metadata": {
        "colab": {
          "base_uri": "https://localhost:8080/"
        },
        "id": "XQNB0RkyFrv-",
        "outputId": "7646175c-892b-4eba-9b35-f16effec72b6"
      },
      "execution_count": null,
      "outputs": [
        {
          "output_type": "stream",
          "name": "stdout",
          "text": [
            "{1, 2, 3, 4}\n",
            "{1, 2, 3, 4, 5}\n"
          ]
        }
      ]
    },
    {
      "cell_type": "code",
      "source": [
        "# Removing elements\n",
        "my_set.remove(2)\n",
        "print(my_set)"
      ],
      "metadata": {
        "colab": {
          "base_uri": "https://localhost:8080/"
        },
        "id": "JCbCoWDPF4Ju",
        "outputId": "7819674b-f38c-4a1c-dfd6-67934abd3aa8"
      },
      "execution_count": null,
      "outputs": [
        {
          "output_type": "stream",
          "name": "stdout",
          "text": [
            "{1, 3, 4, 5}\n"
          ]
        }
      ]
    },
    {
      "cell_type": "code",
      "source": [
        "my_set.pop()"
      ],
      "metadata": {
        "colab": {
          "base_uri": "https://localhost:8080/"
        },
        "id": "Dh3Oh6ixF5wf",
        "outputId": "3b4ae63c-6c07-457e-fef4-d40dfb3d6996"
      },
      "execution_count": null,
      "outputs": [
        {
          "output_type": "execute_result",
          "data": {
            "text/plain": [
              "1"
            ]
          },
          "metadata": {},
          "execution_count": 17
        }
      ]
    },
    {
      "cell_type": "code",
      "source": [
        "my_set"
      ],
      "metadata": {
        "colab": {
          "base_uri": "https://localhost:8080/"
        },
        "id": "wk_FbtPoGFqf",
        "outputId": "0e0eb51d-2b3e-4c41-e8d4-e90c4c1abee2"
      },
      "execution_count": null,
      "outputs": [
        {
          "output_type": "execute_result",
          "data": {
            "text/plain": [
              "{3, 4, 5}"
            ]
          },
          "metadata": {},
          "execution_count": 19
        }
      ]
    },
    {
      "cell_type": "code",
      "source": [],
      "metadata": {
        "id": "SMxTh3zzGILI"
      },
      "execution_count": null,
      "outputs": []
    },
    {
      "cell_type": "markdown",
      "source": [
        "### 6.Use Cases of Tuples and Sets in Python Programming"
      ],
      "metadata": {
        "id": "mDp0kOBtGLmu"
      }
    },
    {
      "cell_type": "markdown",
      "source": [
        "**1. Tuples:**\n",
        "\n",
        "- Fixed Data: Ideal for storing collections of items that should not change. For example, coordinates or fixed records.\n",
        "\n",
        "- Function Return Values: Useful for returning multiple values from a function.\n",
        "\n",
        "- Data Integrity: Ensures that the data remains unchanged, useful for constant data.\n",
        "\n",
        "- Dictionary Keys: Can be used as keys in dictionaries if all elements are immutable.\n",
        "\n",
        "**2. Sets:**\n",
        "\n",
        "- Removing Duplicates: Automatically filters out duplicate items from a collection.\n",
        "\n",
        "- Membership Testing: Efficiently checks for the presence of an item.\n",
        "\n",
        "- Set Operations: Supports operations like union, intersection, and difference.\n",
        "\n",
        "- Efficient Data Handling: Ideal for tasks requiring fast lookups and unique data."
      ],
      "metadata": {
        "id": "eKXOpgpDGUSG"
      }
    },
    {
      "cell_type": "code",
      "source": [],
      "metadata": {
        "id": "h82UT_m-GmdG"
      },
      "execution_count": null,
      "outputs": []
    },
    {
      "cell_type": "markdown",
      "source": [
        "### 7. Adding, Modifying, and Deleting Items in a Dictionary"
      ],
      "metadata": {
        "id": "ptuPoD-BGqId"
      }
    },
    {
      "cell_type": "markdown",
      "source": [
        "- Dictionaries are collections of key-value pairs. They are unordered and mutable, and their keys must be unique and immutable.\n",
        "\n",
        "**Adding Items:** Assign a value to a new key.\n",
        "\n",
        "**Modifying Items:** Update the value associated with an existing key.\n",
        "\n",
        "**Deleting Items:** Use del or pop() to remove key-value pairs."
      ],
      "metadata": {
        "id": "L0ui0BUiGtWN"
      }
    },
    {
      "cell_type": "code",
      "source": [
        "my_dict = {\"name\": \"akif\", \"age\": 18}\n",
        "\n",
        "# Adding an item\n",
        "my_dict[\"city\"] = \"Hyderabad\"\n",
        "print(my_dict)"
      ],
      "metadata": {
        "colab": {
          "base_uri": "https://localhost:8080/"
        },
        "id": "50-hbAv0Gskw",
        "outputId": "f93749e8-4028-44c8-b4e5-7816fb2ec6ee"
      },
      "execution_count": null,
      "outputs": [
        {
          "output_type": "stream",
          "name": "stdout",
          "text": [
            "{'name': 'akif', 'age': 18, 'city': 'Hyderabad'}\n"
          ]
        }
      ]
    },
    {
      "cell_type": "code",
      "source": [
        "# Modifying an item\n",
        "my_dict[\"age\"] = 26\n",
        "print(my_dict)"
      ],
      "metadata": {
        "colab": {
          "base_uri": "https://localhost:8080/"
        },
        "id": "-s6YFzFHHCDq",
        "outputId": "745665d4-72aa-403e-b3a6-c31353747a87"
      },
      "execution_count": null,
      "outputs": [
        {
          "output_type": "stream",
          "name": "stdout",
          "text": [
            "{'name': 'akif', 'age': 26, 'city': 'Hyderabad'}\n"
          ]
        }
      ]
    },
    {
      "cell_type": "code",
      "source": [
        "# Deleting an item\n",
        "del my_dict[\"city\"]\n",
        "print(my_dict)"
      ],
      "metadata": {
        "colab": {
          "base_uri": "https://localhost:8080/"
        },
        "id": "_rzIUhezHDmC",
        "outputId": "e3b7f1cf-887d-4648-ddca-f9aec1919746"
      },
      "execution_count": null,
      "outputs": [
        {
          "output_type": "stream",
          "name": "stdout",
          "text": [
            "{'name': 'akif', 'age': 26}\n"
          ]
        }
      ]
    },
    {
      "cell_type": "code",
      "source": [],
      "metadata": {
        "id": "mHPJPyLUHFPb"
      },
      "execution_count": null,
      "outputs": []
    },
    {
      "cell_type": "markdown",
      "source": [
        "### 8. Importance of Dictionary Keys Being Immutable"
      ],
      "metadata": {
        "id": "TDkjx8Z8HGEW"
      }
    },
    {
      "cell_type": "markdown",
      "source": [
        "- Dictionary keys must be immutable to maintain a consistent hash value, which is used to determine their placement in memory. Mutable objects like lists cannot be used as keys because their contents can change, affecting their hash value"
      ],
      "metadata": {
        "id": "csSQGXl9HKe2"
      }
    },
    {
      "cell_type": "code",
      "source": [
        "# Valid dictionary keys\n",
        "my_dict = {1: \"apple\", \"name\": \"Alice\"}"
      ],
      "metadata": {
        "id": "rSJ3gtExHNUf"
      },
      "execution_count": null,
      "outputs": []
    },
    {
      "cell_type": "code",
      "source": [],
      "metadata": {
        "id": "03ty-FdFHPaH"
      },
      "execution_count": null,
      "outputs": []
    }
  ]
}